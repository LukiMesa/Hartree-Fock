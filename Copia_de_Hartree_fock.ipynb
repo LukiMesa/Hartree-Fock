{
  "nbformat": 4,
  "nbformat_minor": 0,
  "metadata": {
    "colab": {
      "provenance": []
    },
    "kernelspec": {
      "name": "python3",
      "display_name": "Python 3"
    },
    "language_info": {
      "name": "python"
    }
  },
  "cells": [
    {
      "cell_type": "code",
      "source": [
        "import numpy as np"
      ],
      "metadata": {
        "id": "UWLdILLRyPsg"
      },
      "execution_count": null,
      "outputs": []
    },
    {
      "cell_type": "markdown",
      "source": [
        "#Hartree-Fock\n",
        "\n",
        "\n",
        "\n",
        "\n",
        "\n"
      ],
      "metadata": {
        "id": "Pu7I5o6E-ddb"
      }
    },
    {
      "cell_type": "markdown",
      "source": [
        "#**Desarrollo matemático:**\n",
        "La aproximación de Hartree-Fock es una aproximación que aparece naturalmente de la aplicación de la aproximación de Hartree al considerar la antisimetría de las funciones de onda del electrón, con lo cual partimos de la función onda de N partículas\n",
        "$$ \\psi (1,2,...,N) = \\frac{1}{(N!)^{1/2}}\t\\begin{vmatrix} \\phi_1(1) & \\cdots & \\phi_1(N) \\\\ \\vdots & & \\vdots \\\\ \\phi_N(1) & \\cdots & \\phi_N(N) \\end{vmatrix} $$\n",
        "\n",
        "Donde tenemos el determinante de Slater para asegurar que las funciones de onda son antisimétricas, donde las $\\phi_i$ son el producto de la parte espacial y de spin para cada electrón"
      ],
      "metadata": {
        "id": "0Nmh-lVMUPC0"
      }
    },
    {
      "cell_type": "markdown",
      "source": [
        "Ahora, consideramos la condición de que los estados deben estar normalizados, es decir:\n",
        "\n",
        "$$ \\int d^3x|\\phi_i(x)|^2 = 1 $$\n",
        "\n",
        "Condición que introducimos en nuestro sistema como una ligadura con multiplicador de lagrange $\\epsilon_i$, con lo cual minimizamos el valor esperado del hamiltoniano con esta ligadura bajo la variación de las funciones de onda de una partícula y de los parámetros\n",
        "\n",
        "$$ \\langle \\tilde{H}\\rangle = \\langle H \\rangle - \\sum_i \\epsilon_i \\bigg( \\int d^3x|\\phi_i(x)|^2-1 \\bigg) $$\n",
        "\n",
        "Que con el hamiltoniano (Usando la aproximación de Born-Oppenheimer)\n",
        "\n",
        "$$ H = \\sum_{i=1}^N \\bigg( \\frac{p_i^2}{2m}-\\frac{Ze^2}{r_i} \\bigg) + \\sum_{i>j} \\frac{e^2}{|x_i-x_j|} $$\n",
        "\n",
        "Tenemos que el valor esperado del hamiltoniano original es\n",
        "\n",
        "$$ \\langle H \\rangle = \\sum_i \\int d^3x \\bigg[ \\frac{\\hbar^2}{2m}|\\nabla\\phi_i(x)|^2 - \\frac{Ze^2}{r}|\\phi_i(x)|^2 \\bigg] + \\frac{1}{2} \\sum_{ij}\\int d^3x d^3x' \\frac{e^2}{|x-x'|}|\\phi_i(x)|^2|\\phi_j(x')|^2 - \\frac{1}{2} \\sum_{ij} \\delta_{m_{s_i}} \\delta_{m_{s_j}} \\int d^3x d^3x' \\frac{e^2}{|x-x'|} \\phi_i^*(x)\\phi_i(x')\\phi_j^*(x')\\phi_j(x) $$"
      ],
      "metadata": {
        "id": "_V7q_dB_s4v9"
      }
    },
    {
      "cell_type": "markdown",
      "source": [
        "Donde podemos reescribir el término $ |\\nabla\\phi_i(x)|^2 $ ya que el operador $\\nabla$ es autoadjunto de la forma $ |\\nabla\\phi_i(x)|^2 = \\phi_i^*(x)\\nabla^2\\phi_i(x) $ y con lo cual, tendríamos que aplicando el principio variacional en el valor esperado del hamiltoniano con la ligadura, variando respecto a $\\phi_i^*(x)$\n"
      ],
      "metadata": {
        "id": "OzJHaIfwu5DN"
      }
    },
    {
      "cell_type": "markdown",
      "source": [
        "$$ \\bigg( -\\frac{\\hbar^2}{2m}\\nabla^2-\\frac{Ze^2}{r} \\bigg) \\phi_i(x) + \\int d^3x \\frac{e^2}{|x-x'|}\\sum_j\\phi_j^*(x') \\bigg[ \\phi_j(x')\\phi_i(x) - \\phi_j(x)\\phi_i(x')\\delta_{m_{s_i}m_{s_j}} \\bigg] = \\epsilon_i \\phi_i(x) $$"
      ],
      "metadata": {
        "id": "4fh6CQnqv4TQ"
      }
    },
    {
      "cell_type": "markdown",
      "source": [
        "Resultado que es extraordiariamente parecido al obtenido al realizar el método de Hartree, donde interpretamos en multiplicador de lagrange $\\epsilon_i$ como la energía asociada a la función de onda de un electrón, y es que no es una coincidencia, ya que el método es análogo a este, solo cambiando la propuesta de funcion de onda para considerar la antisimetría de la función de onda de los electrones.\n",
        "\n",
        "Centrémonos en la interpretación de estos términos, para eso separemoslos en secciones\n",
        "\n",
        "$$ (1) = \\bigg( -\\frac{\\hbar^2}{2m}\\nabla^2-\\frac{Ze^2}{r} \\bigg) \\phi_i(x) $$\n",
        "\n",
        "Este término está asociado a la interacción pura del nucleo con cada uno de los electrones, incluye la energía por el momentum del electrón y la atracción coulombiana por el nucleo.\n",
        "\n",
        "$$ (2) =  \\int d^3x \\frac{e^2}{|x-x'|}\\sum_j\\phi_j^*(x') \\bigg[ \\phi_j(x')\\phi_i(x) \\bigg] $$\n",
        "\n",
        "Este término lo podemos interpretar como el que representa la interacción entre electrones, es el término de la interacción de coulomb.\n",
        "\n",
        "$$ (3) \\int d^3x \\frac{e^2}{|x-x'|}\\sum_j\\phi_j^*(x')\\bigg[\\phi_j(x)\\phi_i(x')\\delta_{m_{s_i}m_{s_j}} \\bigg] $$\n",
        "\n",
        "Este término es el más interesante de los tres, ya que este apareción únicamente por considerar la propuesta de función de onda como el determinante de Slater, ya que en este término es el único que difiere la aproximación de Hartree-Fock de la de Hartree. La física detrás de este término es bastante interesante, ya que vemos que depende de un delta de los spines de los electrones, con lo cual se puede interpretar como una interferencia entre partículas que ocurre únicamente por la naturaleza fermionica que tienen.\n",
        "\n"
      ],
      "metadata": {
        "id": "muQv5johwvca"
      }
    },
    {
      "cell_type": "markdown",
      "source": [
        "#Ecuaciones de Roothaan-Hall\n",
        "La ecuación de Hartree-Fock se vuelve restringida desde el punto de vista computacional, es una ecuación integro-diferencial compleja. Roothaan y Hall demostraron de manera indepediente que, al introducir un conjunto de funciones bases espaciales conocidas, la ecuación diferencial se puede convertir en un conjunto de ecuaciones algebraicas, lo que permite utilizar técnicas con matrices para hallar una solución.\n",
        "\n",
        "Se introduce una base de funciones conocidas {$\\chi_α$} con $\\psi_i(\\mathbf{r_1})=∑_α^{m}{\\chi_{\\alpha}C_{\\alpha i}}$ en la ecuacion de Hartree-Fock:\n",
        "\n",
        "$$f(\\mathbf{r_1})\\sum\\chi_\\alpha(\\mathbf{r_1}) C_{\\alpha i}=ϵ_i \\sum\\chi_\\alpha(\\mathbf{r_1}) C_{\\alpha i}$$\n",
        "\n",
        "Se multiplica por otra funcion base $\\chi^*_β$ y se integra\n",
        "\n",
        "$$\\sum_\\alpha C_{\\alpha i}∫\\chi^*_β(\\mathbf{r_1}) f(\\mathbf{r_1}) \\chi_\\alpha(\\mathbf{r_1})d\\mathbf{r_1}=ϵ_i \\sum C_{\\alpha i}∫\\chi^*_β(\\mathbf{r_1})\\chi_\\alpha(\\mathbf{r_1})d\\mathbf{r_1}$$\n",
        "\n",
        "Donde:\n",
        "\n",
        "* $F_{\\beta \\alpha}=∫\\chi^*_β(\\mathbf{r_1}) f(\\mathbf{r_1}) \\chi_\\alpha(\\mathbf{r_1})d\\mathbf{r_1}$ es la matriz de Fock\n",
        "* $S_{\\beta \\alpha}=∫\\chi^*_β(\\mathbf{r_1})\\chi_\\alpha(\\mathbf{r_1})d\\mathbf{r_1}$ es la matriz de solapamiento\n",
        "\n",
        "Asi, la ecuacion de Roothaan-Hall:\n",
        "\n",
        "$$\\sum F_{\\beta \\alpha} C_{\\alpha i}=ϵ_i \\sum_\\alpha S_{\\beta \\alpha} C_{\\alpha i}$$\n",
        "\n",
        "\n",
        "\n",
        "\n",
        "La ecuación se convierte en:\n",
        "\n",
        "$$ \\mathbf{F} \\mathbf{C} = \\mathbf{S}\\mathbf{C}\\boldsymbol{\\epsilon}$$\n",
        "\n",
        "Donde:\n",
        "* $\\mathbf{F}$ es la matriz de Fock. Cada elemento de esta matriz contiene la energía cinética de los electrones, la atracción entre los electrones y los núcleos, y la repulsión electrón-electrón.\n",
        "* $\\mathbf{C}$ es una matriz cuadrada de los coeficientes de expansión. Cada columna de esta matriz representa un orbital molecular, y los elementos de cada columna son los coeficientes que multiplican a cada una de las funciones de base.\n",
        "* $\\mathbf{S}$ es la matriz de solapamiento. Dado que las funciones de base no son ortogonales, esta matriz describe cómo las funciones de base se solapan entre sí.\n",
        "* $\\boldsymbol{\\epsilon}$ es una matriz diagonal que contiene los valores propios, que representan las energías de los orbitales moleculares.  $\\epsilon_i$\n",
        "\n",
        "Para escribir las ecuaciones de Roothaan-Hall en forma de un problema de valores propios matricial, la base debe ser ortogonalizada, por lo tanto, para las funciones base que no son ortogonales se debe incluir $\\mathbf{S}$ para asegurar la ortonormalidad.\n",
        "\n",
        "$$\n",
        "\\mathbf{S_{\\mu \\nu}} = \\int \\phi_\\mu^*(\\mathbf{r}) \\phi_\\nu(\\mathbf{r}) \\, d\\mathbf{r}\n",
        "$$\n",
        "\n",
        "Las ecuaciones no se pueden resolver directamente porque la matriz de Fock depende de Coulomb y las integrales de intercambio, los cuales dependen de la función de onda espacial, por lo tanto, se sigue un procedimiento de campo autoconsistente(SCF) en el que se obtienen nuevos coeficientes de $\\mathbf{C}$ en cada interacción hasta que se cumplan los criterios de convergencia.\n",
        "Ahora se introduce la matriz de densidad de carga que se utiliza para calcular la matriz de Fock $\\mathbf{F}$.\n",
        "\n",
        "#Matriz densidad de carga\n",
        "\n",
        "Una matriz de densidad de carga es una función de distribución de probabilidad de un electrón descrita por una función espacial, $\\psi_a(\\mathbf{r})$.\n",
        "La funcion de distribucion probabilidad para encontrar el electrón en un elemento de volumen $ d\\mathbf{r}$ en un punto $\\mathbf{r}$ es $\\left| \\psi_a(\\mathbf{r}) \\right|^2$.\n",
        "Para el problema de Hartree-Fock closed-shell descrito por una funcion de onda de determinante unico con todos los orbitales doblemente ocupados, la densidad de carga esta dada por:\n",
        "$$\\rho(\\mathbf{r}) = 2 \\sum_{a=1}^{N/2} \\left| \\psi_a(\\mathbf{r}) \\right|^2$$\n",
        "\n",
        "Para calcular el numero total de electrones integramos la densidad de carga\n",
        "$$\\int \\rho(\\mathbf{r}) \\, d\\mathbf{r} = 2 \\sum_{a=1}^{N/2} \\int \\left| \\psi_a(\\mathbf{r}) \\right|^2 d\\mathbf{r} = 2 \\sum_{a=1}^{N/2} 1 = N$$\n",
        "\n",
        "Para un solo determinante, la densidad de carga total es simplemente la suma de las densidades de carga de cada uno de los electrones.\n",
        "\n",
        "\n",
        "A continuacion se inserta una expresion orbital de la forma $\\psi_a(\\mathbf{r}) = \\sum C\\phi(\\mathbf{r})$ en $\\rho(\\mathbf{r})$ donde $\\phi(\\mathbf{r})$ representa la ecuacion de la base que se elija y $C$ indica cuanto contribuye esta funcion a la funcion de onda total.\n",
        "\n",
        "$$\n",
        "\\rho(\\mathbf{r}) = 2\\sum_{a}^{N/2}\\psi_a^*(\\mathbf{r}) \\psi_a(\\mathbf{r})\n",
        "$$\n",
        "$$=  2\\sum_{a}^{N/2}\\sum_{\\nu}C^*_{\\nu a}\\phi^*_\\nu(\\mathbf{r})\\sum_{\\mu}C_{\\mu a}\\phi_\\mu(\\mathbf{r})$$\n",
        "$$=  \\sum_{\\mu \\nu}P_{\\mu \\nu}\\phi_\\mu(\\mathbf{r})\\phi^*_\\nu(\\mathbf{r})$$\n",
        "\n",
        "Donde $P_{\\mu \\nu}$ es la matriz de los elementos de la densidad de carga.\n",
        "\n",
        "$$P_{\\mu \\nu} = 2\\sum_{a}^{N/2}C_{\\mu a}C^*_{\\nu a}$$\n",
        "\n",
        "\n",
        "\n",
        "La matriz de densidad de carga se construye utilizando los coeficientes del conjunto base. Dado un conjunto de funciones base $\\phi_\\mu$, la matriz $\\mathbf{P}$ especifica la densidad de carga de los electrones en el sistema. Combinando la matriz de Fock con $f(1) = h(1) + \\sum_{a}^{N/2}2J_a(1)-K_a(1)$ e introduciendo la base $\\phi_\\mu$\n",
        "\n",
        "$$F_{\\mu \\nu} = \\int \\phi_{\\mu}^*(1)f(1)\\phi_{\\nu}d\\mathbf{r_1}$$\n",
        "\n",
        "$$=\\int\\phi_{\\mu}^*(1)h(1)\\phi_{\\nu}d\\mathbf{r_1} + \\sum_{a}^{N/2}\\int\\phi_{\\mu}^*(1)[2J_a(1)-K_a(1)]\\phi_{\\nu}(1)d\\mathbf{r_1}$$\n",
        "\n",
        "$$= H_{\\mu \\nu}^{core} +  \\sum_{a}^{N/2}2(\\mu \\nu|a a)- (\\mu a|a \\nu)$$\n",
        "\n",
        "Donde $(\\mu \\nu|a a)$ es una notacion para la integral de dos electrones.\n",
        "Escogemos una funcion de onda que implica una forma de expansion lineal dada por:\n",
        "\n",
        "$$\\psi_i = \\sum_{\\mu=1}^{K}C_{\\mu i}\\phi_{\\mu}$$\n",
        "\n",
        "Ahora se inserta esta expansion en los terminos de dos electrones, lo que da la expresion final de la matriz de Fock\n",
        "\n",
        "$$F_{\\mu \\nu} = H_{\\mu \\nu}^{core} +  \\sum_{a}^{N/2}\\sum_{\\lambda \\sigma} C_{\\lambda a}C^*_{\\sigma a}[2(\\mu\\lambda|\\sigma\\lambda)-(\\mu\\lambda|\\sigma\\nu)]$$\n",
        "$$= H_{\\mu \\nu}^{core} + \\sum_{\\lambda \\sigma} P_{\\lambda \\sigma}[(\\mu\\nu|\\sigma\\nu)] $$\n",
        "\n",
        "$$= H_{\\mu \\nu}^{core} + G_{\\mu \\nu}$$\n",
        "\n",
        "Donde $G_{\\mu \\nu}$ es la parte de dos electrones de la matriz de Fock.\n",
        "\n",
        "Ahora podemos continuar con el proceso que el programa debe seguir.\n",
        "\n",
        "\n"
      ],
      "metadata": {
        "id": "o7nT6p69WwmL"
      }
    },
    {
      "cell_type": "markdown",
      "source": [
        "# Paso 1: Escoger la base\n",
        "Elegimos para nuestro problema especifico del átomo de Helio una base STO-1G, que significa que la base es una aproximación de orbitales 1S de tipo Slater con una función gausiana.\n"
      ],
      "metadata": {
        "id": "qBfbAjug15FE"
      }
    },
    {
      "cell_type": "markdown",
      "source": [
        "# Paso 2: Calcular integrales\n",
        "A partir del paso uno se sigue inmediatamente a las integrales que definene las interaciones entre cada uno de los electrones y el núcleo, en este caso particular tenemos una energia cinética y una potencial para el atomo de Helio.\n",
        "\n",
        "---\n",
        "\n",
        "\n",
        "Las integrales están dadas por:\n",
        "\n",
        "*   Energía cinética: $T_{rs}(1) = ∫ \\phi_r (-\\frac{1}{2} ∇_1^2) \\phi_s dν$\n",
        "\n",
        "*   Energía potencial para el átomo de helio: $V_{rs}(H_e,1) = ∫ \\phi_r (\\frac{Z_{H_e}}{r_{H_e1}}) \\phi_s dν$\n",
        "\n",
        "Donde $r_{H_e1}$ representa la distancia del electron al nucleo de helio."
      ],
      "metadata": {
        "id": "DgmC2B0f3LNC"
      }
    },
    {
      "cell_type": "markdown",
      "source": [
        "Los resultados de las integrales para este caso estan consignada por indices en los siguientes archivos de texto:\n",
        "\n",
        "               \n",
        "            \n",
        "*   Enería cinética: https://raw.githubusercontent.com/adambaskerville/adambaskerville.github.io/master/_posts/HartreeFockCode/t.dat  \n",
        "*   Energía potencial: https://raw.githubusercontent.com/adambaskerville/adambaskerville.github.io/master/_posts/HartreeFockCode/v.dat  \n",
        "\n"
      ],
      "metadata": {
        "id": "OWvIvoJO7OwN"
      }
    },
    {
      "cell_type": "markdown",
      "source": [
        "Segun lo leído, las integrales para varios ( en este caso para dos) electrones son el cuello de botella para los algoritmos de Hartree Fock, por lo que también se van a consignar los resultados en un archivo de texto para las integrales de la forma:\n",
        "\n",
        "$$(rs|tu) = ∫ \\phi_r \\phi_s (\\frac{1}{r_{12}}) \\phi_t \\phi_u d V$$\n",
        "\n",
        "Donde $\\frac{1}{r_{12}}$ representa el reciproco de la distancia inter electrónica y los $\\phi_{r,s,t,u}$ representan las funciones de onda en la base escogida, integrados en un volumen V.\n",
        "\n",
        "Los resultados de las integrales de dos electrones (two electro integral) TEI están en:\n",
        "https://raw.githubusercontent.com/adambaskerville/adambaskerville.github.io/master/_posts/HartreeFockCode/two_elec_int.dat\n"
      ],
      "metadata": {
        "id": "uFwF8CfN8SXF"
      }
    },
    {
      "cell_type": "markdown",
      "source": [
        "Con las anteriores integrales construimos la matriz $G$ que es simplemente la contribución de los operadores de intercambio y de Coulomb en la matriz de Fock:\n",
        "\n",
        "$$G_{rs} = \\displaystyle\\sum_{t=1}^{m}\\sum_{u=1}^{m} P_{tu} [(rs|tu - \\frac{1}{2}(ruts)]$$\n",
        "\n",
        "$P_{tu}$ representa un elemento de la matriz densidad y en general estos elementos tiene la estructura de la forma:\n",
        "\n",
        "$$P_{\\mu \\nu} = 2\\displaystyle\\sum_{a=1}^{N/2}C_{\\mu a}C_{\\nu a}^*$$"
      ],
      "metadata": {
        "id": "0A6UIZJG7P48"
      }
    },
    {
      "cell_type": "markdown",
      "source": [
        "# Paso 3: diagonalizar la matriz de solapamiento\n",
        "\n",
        "Para escribir la ecuación de Roothan en la forma de un problema de autovalores y autovectores la base debe ser ortogonalizada, para ello recurrimos a la matriz de solapamiento y la diagonalizamos:\n",
        "\n",
        "La matriz de solapamiento tiene la estructura de:\n",
        "\n",
        "$$ S_{\\mu \\nu} = ∫\\phi_{\\mu}^{*}(r)\\phi_{\\nu}(r)dr $$\n",
        "\n",
        "Y siempre es posible encontrar una matriz de transformación $X$ que con unas funciones transformadas de tipo:\n",
        "\n",
        "$$ \\phi_{\\mu}^´ = \\sum X_{\\nu\\mu}\\phi_\\nu, \\phantom{0000} \\nu = 1,2,...,K  $$\n",
        "\n",
        "Y ahora estas funciones si forman una base ortonormal tal que:\n",
        "\n",
        "$$∫\\phi_{\\mu}^{´*}(r)\\phi_{\\nu}^{´}(r)dr = \\delta_{\\mu\\nu}$$\n",
        "\n",
        "Esa transformacion dada por $X$ debe satisfacer que: $X^{†} S X = \\mathbb{I}$, para que los orbitales formen una base ortonormal.\n",
        "\n"
      ],
      "metadata": {
        "id": "YAbJsSUrA_Gu"
      }
    },
    {
      "cell_type": "markdown",
      "source": [
        "En general para llevar a cabo la diagonalización de la matriz de solapamiento debemos hacer ortogonalizaciones canonicas o symetricas:\n",
        "\n",
        "Para la ortogonalizacion Symetrica se usa la raiz cuadrada de la matriz de solapamiento como la matriz $X$. Como?, pues diagonalizamos la matriz $S$ haciendo el \"Sanduche\" Con la matriz $U$: $s = U^\\dagger S U$ donde $s$ es una matriz diagonal con los valores propios de la matriz de solapamiento, a la cual si le podemos sacar raíz cuadrada ----> $X = S^{-\\frac{1}{2}} = Us^{-\\frac{1}{2}}U^\\dagger$\n",
        "\n"
      ],
      "metadata": {
        "id": "Ik8bHEEbNbE3"
      }
    },
    {
      "cell_type": "markdown",
      "source": [
        "En código sería así usando numpy:"
      ],
      "metadata": {
        "id": "RimccgtDTxgD"
      }
    },
    {
      "cell_type": "code",
      "source": [
        "SVAL, SVEC   = np.linalg.eigh(S) #Esto entrega dos matrices, valores y vectores propios de S\n",
        "SVAL_minhalf = (np.diag(SVAL**(-0.5))) #Le sacamos raíz cuadrada\n",
        "S_minhalf    = np.dot(SVEC, np.dot(SVAL_minhalf, np.transpose(SVEC))) #Armamos X"
      ],
      "metadata": {
        "id": "VkTi1ajlTujG"
      },
      "execution_count": null,
      "outputs": []
    },
    {
      "cell_type": "markdown",
      "source": [
        "Nota: En el documento el autor propone una estructura particular para la matriz de densidad de carga:\n",
        "\n",
        "$$ P = \\begin{pmatrix}\n",
        "0 & 0 & 0\\\\\n",
        "0 & 0 & 0\\\\\n",
        "0 & 0 & 0\n",
        "\\end{pmatrix} $$\n",
        "\n",
        "Lo que representa una aproximación que desprecia los efectos repulsivos entre electrones en la primera iteración, dejando que F sea solo: $$F_{\\mu\\nu} = H^{core}_{\\mu \\nu}$$.\n",
        "\n"
      ],
      "metadata": {
        "id": "iea1XnfxVu09"
      }
    },
    {
      "cell_type": "markdown",
      "source": [
        "# Paso 5: Calcular la matriz $G$\n",
        "\n",
        "La matriz $G$ es la contribución del operador de Coulomb y el de Intercambio en la matriz de Fock, los cuales se construyen a partir de las integrales de dos electrones (TEI) que llamamos en codigo:\n"
      ],
      "metadata": {
        "id": "hQKu7kz_21eu"
      }
    },
    {
      "cell_type": "code",
      "source": [
        "TEI = np.genfromtxt('https://raw.githubusercontent.com/adambaskerville/adambaskerville.github.io/master/_posts/HartreeFockCode/two_elec_int.dat')"
      ],
      "metadata": {
        "id": "nMuGNiiq37hX"
      },
      "execution_count": null,
      "outputs": []
    },
    {
      "cell_type": "markdown",
      "source": [
        "En el documento ademas añaden algo de información acerca de como podemos acceder a los valores de la integrales de dos electrones sin colapsar el computador (para nuestro ejemplo eso no es importante, ya que solo son 6 integrales unicas). El metodo que propone es usando el **Yoshimine sort** para acceder a estos datos convirtiendo un input de 4 indices, a solo un indice agrupado:"
      ],
      "metadata": {
        "id": "YyE4ElOq3wFz"
      }
    },
    {
      "cell_type": "code",
      "source": [
        "def eint(a,b,c,d):\n",
        "    if a > b: ab = a*(a+1)/2 + b\n",
        "    else: ab = b*(b+1)/2 + a\n",
        "    if c > d: cd = c*(c+1)/2 + d\n",
        "    else: cd = d*(d+1)/2 + c\n",
        "    if ab > cd: abcd = ab*(ab+1)/2 + cd\n",
        "    else: abcd = cd*(cd+1)/2 + ab\n",
        "\n",
        "    return abcd"
      ],
      "metadata": {
        "id": "83dgAIDyyS9Y"
      },
      "execution_count": null,
      "outputs": []
    },
    {
      "cell_type": "markdown",
      "source": [
        "El cual ya vemos que por ser cuatro indices necesita 4 condicionales y esto permite resumir una busqueda de n series de cuatro caracteres cada una a una lista ordenada de un solo indice que nos permite ordenarlos en un diccionario:\n"
      ],
      "metadata": {
        "id": "PnZBDD765kIr"
      }
    },
    {
      "cell_type": "code",
      "source": [
        "twoe = {eint(row[0], row[1], row[2], row[3]) : row[4] for row in TEI}"
      ],
      "metadata": {
        "id": "KmYkaWPK6tGF"
      },
      "execution_count": null,
      "outputs": []
    },
    {
      "cell_type": "markdown",
      "source": [
        "Lo que nos permite hacer un .get para extraer nuestros datos del diccionario de pyton:"
      ],
      "metadata": {
        "id": "xJT2rPxQ7Cc2"
      }
    },
    {
      "cell_type": "code",
      "source": [
        "def tei(a, b, c, d):\n",
        "    return twoe.get(eint(a, b, c, d), 0)"
      ],
      "metadata": {
        "id": "AO0Ny8hdyVjY"
      },
      "execution_count": null,
      "outputs": []
    },
    {
      "cell_type": "markdown",
      "source": [
        "Notese que se ingresan los cuatro indices $i, j, k, l$ en la funcion tei(a,b,c,d) y se podria obtener un valor de la integral que queremos escoger de nuestro diccionario."
      ],
      "metadata": {
        "id": "EUlmqS28KdVe"
      }
    },
    {
      "cell_type": "markdown",
      "source": [
        "# Paso 6: Calcular la matriz de Fock: $F$"
      ],
      "metadata": {
        "id": "sdlmdA_WOj1A"
      }
    },
    {
      "cell_type": "code",
      "source": [
        "def makefock(Hcore, P, dim):\n",
        "    F = np.zeros((dim, dim))\n",
        "    for i in range(0, dim):\n",
        "        for j in range(0, dim):\n",
        "            F[i,j] = Hcore[i,j]\n",
        "            for k in range(0, dim):\n",
        "                for l in range(0, dim):\n",
        "                    F[i,j] = F[i,j] + P[k,l]*(tei(i+1,j+1,k+1,l+1)-0.5*tei(i+1,k+1,j+1,l+1))\n",
        "\n",
        "    return F"
      ],
      "metadata": {
        "id": "bgC0PV9IybJq"
      },
      "execution_count": null,
      "outputs": []
    },
    {
      "cell_type": "markdown",
      "source": [
        "# Paso 7: calcular la matriz de Fock transformada\n",
        "\n",
        "Como vimos antes, definimos para la matriz de Fock una transformacion $X$ tal que $X \\equiv S^{-\\frac{1}{2}}$ y así eliminamos de la ecuación de Roothaan_Hall la matriz de solapamiento ademas, definiendo:\n",
        "$$ C´ = X^{-1}C \\phantom{000} ---> \\phantom{0000} C = XC´ $$\n",
        "Sustituyendo $C$ en la ecuación de Roothaan, premultiplicando por $X^{\\dagger} $ y definiendo $F' = X^{†} FX$ llegaremos finalmente a una ecuación de Roothaan que no contiene la matriz de solapamiento:\n",
        "$$F'C'=C'ϵ$$"
      ],
      "metadata": {
        "id": "WINJ6W5fOwup"
      }
    },
    {
      "cell_type": "code",
      "source": [
        "def fprime(X, F): # Put Fock matrix in orthonormal AO basis\n",
        "    return np.dot(np.transpose(X), np.dot(F, X))"
      ],
      "metadata": {
        "id": "5-MxfqmfyXjg"
      },
      "execution_count": null,
      "outputs": []
    },
    {
      "cell_type": "markdown",
      "source": [
        "Ademas la diagonalizamos:\n",
        "Consignamos sus valores y vectores propios en dos matrices."
      ],
      "metadata": {
        "id": "deILoLSSjqve"
      }
    },
    {
      "cell_type": "code",
      "source": [
        "E, Cprime = np.linalg.eigh(Fprime)"
      ],
      "metadata": {
        "id": "aNrfX7yljtO_"
      },
      "execution_count": null,
      "outputs": []
    },
    {
      "cell_type": "markdown",
      "source": [
        "De la ecuación: $C = XC'$ conseguimos los coeficiones originales de nuestra ecuación:"
      ],
      "metadata": {
        "id": "V5iFowQyj8Je"
      }
    },
    {
      "cell_type": "code",
      "source": [
        "C = np.dot(S_minhalf, Cprime)"
      ],
      "metadata": {
        "id": "42yphbXCkTCN"
      },
      "execution_count": null,
      "outputs": []
    },
    {
      "cell_type": "markdown",
      "source": [
        "# Paso 8: Clacular la matriz de densidad"
      ],
      "metadata": {
        "id": "bQ0UAtU4kk1J"
      }
    },
    {
      "cell_type": "code",
      "source": [
        "def makedensity(C, D, dim, Nelec): # Make density matrix and store old one to test for convergence\n",
        "    Dold = np.zeros((dim, dim))\n",
        "    for mu in range(0, dim):\n",
        "        for nu in range(0, dim):\n",
        "            Dold[mu,nu] = D[mu, nu]\n",
        "            D[mu,nu] = 0\n",
        "            for m in range(0, int(Nelec/2)):\n",
        "                D[mu,nu] = D[mu,nu] + 2*C[mu,m]*C[nu,m]\n",
        "\n",
        "    return D, Dold"
      ],
      "metadata": {
        "id": "ZtX4Pt-NyZV4"
      },
      "execution_count": null,
      "outputs": []
    },
    {
      "cell_type": "markdown",
      "source": [
        "# Paso 9: Calcular la energía"
      ],
      "metadata": {
        "id": "MEeK420nlPan"
      }
    },
    {
      "cell_type": "code",
      "source": [
        "def currentenergy(D, Hcore, F, dim): # Calculate energy at iteration\n",
        "    EN = 0\n",
        "    for mu in range(0, dim):\n",
        "        for nu in range(0, dim):\n",
        "            EN += 0.5*D[mu,nu]*(Hcore[mu,nu] + F[mu,nu])\n",
        "\n",
        "    return EN"
      ],
      "metadata": {
        "id": "RXMz1yuwye0J"
      },
      "execution_count": null,
      "outputs": []
    },
    {
      "cell_type": "code",
      "source": [
        "def deltap(D, Dold): # Calculate change in density matrix using Root Mean Square Deviation (RMSD)\n",
        "    DELTA = 0.0\n",
        "    for i in range(0, dim):\n",
        "        for j in range(0, dim):\n",
        "            DELTA = DELTA + ((D[i,j] - Dold[i,j])**2)\n",
        "\n",
        "    return (DELTA)**(0.5)"
      ],
      "metadata": {
        "id": "Y3m00Y5Yycx4"
      },
      "execution_count": null,
      "outputs": []
    },
    {
      "cell_type": "code",
      "source": [
        "def symmetrise(Mat): # Symmetrize a matrix given a triangular one\n",
        "    return Mat + Mat.T - np.diag(Mat.diagonal())"
      ],
      "metadata": {
        "id": "p1-C4ZPVyRQi"
      },
      "execution_count": null,
      "outputs": []
    },
    {
      "cell_type": "code",
      "source": [
        "Nelec = 2 # The number of electrons in our system\n",
        "ENUC = np.genfromtxt('https://raw.githubusercontent.com/adambaskerville/adambaskerville.github.io/master/_posts/HartreeFockCode/enuc.dat',dtype=float, delimiter=',') # ENUC = nuclear repulsion,\n",
        "Sraw = np.genfromtxt('https://raw.githubusercontent.com/adambaskerville/adambaskerville.github.io/master/_posts/HartreeFockCode/s.dat',dtype=None)                    # Sraw is overlap matrix,\n",
        "Traw = np.genfromtxt('https://raw.githubusercontent.com/adambaskerville/adambaskerville.github.io/master/_posts/HartreeFockCode/t.dat',dtype=None)                    # Traw is kinetic energy matrix,\n",
        "Vraw = np.genfromtxt('https://raw.githubusercontent.com/adambaskerville/adambaskerville.github.io/master/_posts/HartreeFockCode/v.dat',dtype=None)                    # Vraw is potential energy matrix\n",
        "\n",
        "dim = 2 # dim is the number of basis functions\n",
        "S = np.zeros((dim, dim)) # Initialize integrals, and put them in a Numpy array\n",
        "T = np.zeros((dim, dim))\n",
        "V = np.zeros((dim, dim))"
      ],
      "metadata": {
        "id": "KTmzG2nvygbo"
      },
      "execution_count": null,
      "outputs": []
    },
    {
      "cell_type": "code",
      "source": [
        "for i in Sraw: S[i[0]-1, i[1]-1] = i[2] # Put the integrals into a matrix\n",
        "for i in Traw: T[i[0]-1, i[1]-1] = i[2] # Put the integrals into a matrix\n",
        "for i in Vraw: V[i[0]-1, i[1]-1] = i[2] # Put the integrals into a matrix\n",
        "\n",
        "S            = symmetrise(S) # Flip the triangular matrix in the diagonal\n",
        "V            = symmetrise(V) # Flip the triangular matrix in the diagonal\n",
        "T            = symmetrise(T) # Flip the triangular matrix in the diagonal\n",
        "\n",
        "TEI          = np.genfromtxt('https://raw.githubusercontent.com/adambaskerville/adambaskerville.github.io/master/_posts/HartreeFockCode/two_elec_int.dat') # Load two electron integrals\n",
        "twoe         = {eint(row[0], row[1], row[2], row[3]) : row[4] for row in TEI} # Put in python dictionary\n",
        "Hcore        = T + V # Form core Hamiltonian matrix as sum of one electron kinetic energy, T and potential energy, V matrices\n",
        "SVAL, SVEC   = np.linalg.eigh(S) # Diagonalize basis using symmetric orthogonalization\n",
        "SVAL_minhalf = (np.diag(SVAL**(-0.5))) # Inverse square root of eigenvalues\n",
        "S_minhalf    = np.dot(SVEC, np.dot(SVAL_minhalf, np.transpose(SVEC)))\n",
        "P            = np.zeros((dim, dim)) # P represents the density matrix, Initially set to zero.\n",
        "DELTA        = 1 # Set placeholder value for delta\n",
        "count        = 0 # Count how many SCF cycles are done, N(SCF)\n",
        "\n",
        "while DELTA > 0.00001:\n",
        "    count     += 1                             # Add one to number of SCF cycles counter\n",
        "    F         = makefock(Hcore, P, dim)        # Calculate Fock matrix, F\n",
        "    Fprime    = fprime(S_minhalf, F)           # Calculate transformed Fock matrix, F'\n",
        "    E, Cprime = np.linalg.eigh(Fprime)         # Diagonalize F' matrix\n",
        "    C         = np.dot(S_minhalf, Cprime)      # 'Back transform' the coefficients into original basis using transformation matrix\n",
        "    P, OLDP   = makedensity(C, P, dim, Nelec)  # Make density matrix\n",
        "    DELTA     = deltap(P, OLDP)                # Test for convergence. If criteria is met exit loop and calculate properties of interest\n",
        "\n",
        "    print(\"E = {:.6f}, N(SCF) = {}\".format(currentenergy(P, Hcore, F, dim) + ENUC, count))\n",
        "\n",
        "print(\"SCF procedure complete, TOTAL E(SCF) = {} hartrees\".format(currentenergy(P, Hcore, F, dim) + ENUC))"
      ],
      "metadata": {
        "id": "_xUQfFuvymwq",
        "colab": {
          "base_uri": "https://localhost:8080/"
        },
        "outputId": "e19d1300-88fe-4178-ff65-4ef140662642"
      },
      "execution_count": null,
      "outputs": [
        {
          "output_type": "stream",
          "name": "stdout",
          "text": [
            "E = -3.345374, N(SCF) = 1\n",
            "E = -2.418618, N(SCF) = 2\n",
            "E = -2.439621, N(SCF) = 3\n",
            "E = -2.443370, N(SCF) = 4\n",
            "E = -2.444016, N(SCF) = 5\n",
            "E = -2.444127, N(SCF) = 6\n",
            "E = -2.444146, N(SCF) = 7\n",
            "E = -2.444149, N(SCF) = 8\n",
            "SCF procedure complete, TOTAL E(SCF) = -2.444149490118208 hartrees\n"
          ]
        }
      ]
    }
  ]
}